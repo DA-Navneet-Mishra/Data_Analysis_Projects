{
 "cells": [
  {
   "cell_type": "code",
   "execution_count": 1,
   "metadata": {},
   "outputs": [],
   "source": [
    "import pandas as pd\n",
    "import numpy as np\n",
    "import matplotlib.pyplot as plt"
   ]
  },
  {
   "cell_type": "code",
   "execution_count": 2,
   "metadata": {},
   "outputs": [],
   "source": [
    "#importing the dataset\n",
    "df = pd.read_csv(\"D:\\\\Data_Analysis\\\\Data_Analysis_Projects\\\\Supermarket_Sales_Analysis\\\\dataset\\\\supermarket_sales.csv\")"
   ]
  },
  {
   "cell_type": "code",
   "execution_count": 3,
   "metadata": {},
   "outputs": [
    {
     "data": {
      "text/html": [
       "<div>\n",
       "<style scoped>\n",
       "    .dataframe tbody tr th:only-of-type {\n",
       "        vertical-align: middle;\n",
       "    }\n",
       "\n",
       "    .dataframe tbody tr th {\n",
       "        vertical-align: top;\n",
       "    }\n",
       "\n",
       "    .dataframe thead th {\n",
       "        text-align: right;\n",
       "    }\n",
       "</style>\n",
       "<table border=\"1\" class=\"dataframe\">\n",
       "  <thead>\n",
       "    <tr style=\"text-align: right;\">\n",
       "      <th></th>\n",
       "      <th>Invoice ID</th>\n",
       "      <th>Branch</th>\n",
       "      <th>City</th>\n",
       "      <th>Customer type</th>\n",
       "      <th>Gender</th>\n",
       "      <th>Product line</th>\n",
       "      <th>Unit price</th>\n",
       "      <th>Quantity</th>\n",
       "      <th>Tax 5% (per Unit)</th>\n",
       "      <th>Total</th>\n",
       "      <th>Date</th>\n",
       "      <th>Time</th>\n",
       "      <th>Payment</th>\n",
       "      <th>Rating (out of 10)</th>\n",
       "    </tr>\n",
       "  </thead>\n",
       "  <tbody>\n",
       "    <tr>\n",
       "      <th>0</th>\n",
       "      <td>750-67-8428</td>\n",
       "      <td>A</td>\n",
       "      <td>Yangon</td>\n",
       "      <td>Member</td>\n",
       "      <td>Female</td>\n",
       "      <td>Health and beauty</td>\n",
       "      <td>74.69</td>\n",
       "      <td>7</td>\n",
       "      <td>26.1415</td>\n",
       "      <td>548.9715</td>\n",
       "      <td>01-05-2019</td>\n",
       "      <td>13:08</td>\n",
       "      <td>Ewallet</td>\n",
       "      <td>9.1</td>\n",
       "    </tr>\n",
       "    <tr>\n",
       "      <th>1</th>\n",
       "      <td>226-31-3081</td>\n",
       "      <td>C</td>\n",
       "      <td>Naypyitaw</td>\n",
       "      <td>Normal</td>\n",
       "      <td>Female</td>\n",
       "      <td>Electronic accessories</td>\n",
       "      <td>15.28</td>\n",
       "      <td>5</td>\n",
       "      <td>3.8200</td>\n",
       "      <td>80.2200</td>\n",
       "      <td>03-08-2019</td>\n",
       "      <td>10:29</td>\n",
       "      <td>Cash</td>\n",
       "      <td>9.6</td>\n",
       "    </tr>\n",
       "    <tr>\n",
       "      <th>2</th>\n",
       "      <td>631-41-3108</td>\n",
       "      <td>A</td>\n",
       "      <td>Yangon</td>\n",
       "      <td>Normal</td>\n",
       "      <td>Male</td>\n",
       "      <td>Home and lifestyle</td>\n",
       "      <td>46.33</td>\n",
       "      <td>7</td>\n",
       "      <td>16.2155</td>\n",
       "      <td>340.5255</td>\n",
       "      <td>03-03-2019</td>\n",
       "      <td>13:23</td>\n",
       "      <td>Credit card</td>\n",
       "      <td>7.4</td>\n",
       "    </tr>\n",
       "    <tr>\n",
       "      <th>3</th>\n",
       "      <td>123-19-1176</td>\n",
       "      <td>A</td>\n",
       "      <td>Yangon</td>\n",
       "      <td>Member</td>\n",
       "      <td>Male</td>\n",
       "      <td>Health and beauty</td>\n",
       "      <td>58.22</td>\n",
       "      <td>8</td>\n",
       "      <td>23.2880</td>\n",
       "      <td>489.0480</td>\n",
       "      <td>1/27/2019</td>\n",
       "      <td>20:33</td>\n",
       "      <td>Ewallet</td>\n",
       "      <td>8.4</td>\n",
       "    </tr>\n",
       "    <tr>\n",
       "      <th>4</th>\n",
       "      <td>373-73-7910</td>\n",
       "      <td>A</td>\n",
       "      <td>Yangon</td>\n",
       "      <td>Normal</td>\n",
       "      <td>Male</td>\n",
       "      <td>Sports and travel</td>\n",
       "      <td>86.31</td>\n",
       "      <td>7</td>\n",
       "      <td>30.2085</td>\n",
       "      <td>634.3785</td>\n",
       "      <td>02-08-2019</td>\n",
       "      <td>10:37</td>\n",
       "      <td>Ewallet</td>\n",
       "      <td>5.3</td>\n",
       "    </tr>\n",
       "  </tbody>\n",
       "</table>\n",
       "</div>"
      ],
      "text/plain": [
       "    Invoice ID Branch       City Customer type  Gender  \\\n",
       "0  750-67-8428      A     Yangon        Member  Female   \n",
       "1  226-31-3081      C  Naypyitaw        Normal  Female   \n",
       "2  631-41-3108      A     Yangon        Normal    Male   \n",
       "3  123-19-1176      A     Yangon        Member    Male   \n",
       "4  373-73-7910      A     Yangon        Normal    Male   \n",
       "\n",
       "             Product line  Unit price  Quantity  Tax 5% (per Unit)     Total  \\\n",
       "0       Health and beauty       74.69         7            26.1415  548.9715   \n",
       "1  Electronic accessories       15.28         5             3.8200   80.2200   \n",
       "2      Home and lifestyle       46.33         7            16.2155  340.5255   \n",
       "3       Health and beauty       58.22         8            23.2880  489.0480   \n",
       "4       Sports and travel       86.31         7            30.2085  634.3785   \n",
       "\n",
       "         Date   Time      Payment  Rating (out of 10)  \n",
       "0  01-05-2019  13:08      Ewallet                 9.1  \n",
       "1  03-08-2019  10:29         Cash                 9.6  \n",
       "2  03-03-2019  13:23  Credit card                 7.4  \n",
       "3   1/27/2019  20:33      Ewallet                 8.4  \n",
       "4  02-08-2019  10:37      Ewallet                 5.3  "
      ]
     },
     "execution_count": 3,
     "metadata": {},
     "output_type": "execute_result"
    }
   ],
   "source": [
    "df.head()"
   ]
  },
  {
   "cell_type": "markdown",
   "metadata": {},
   "source": [
    "##### Some important or required functions and variables."
   ]
  },
  {
   "cell_type": "code",
   "execution_count": 4,
   "metadata": {},
   "outputs": [],
   "source": [
    "import random\n",
    "def generate_colors(n):\n",
    "    # Generate n distinct random colors\n",
    "    colors = []\n",
    "    for _ in range(n):\n",
    "        color = (random.random(), random.random(), random.random())\n",
    "        colors.append(color)\n",
    "    return colors"
   ]
  },
  {
   "cell_type": "markdown",
   "metadata": {},
   "source": [
    "##### Task_1: Clean and prepare data."
   ]
  },
  {
   "cell_type": "code",
   "execution_count": 5,
   "metadata": {},
   "outputs": [
    {
     "data": {
      "text/plain": [
       "Invoice ID            0\n",
       "Branch                0\n",
       "City                  0\n",
       "Customer type         0\n",
       "Gender                0\n",
       "Product line          0\n",
       "Unit price            0\n",
       "Quantity              0\n",
       "Tax 5% (per Unit)     0\n",
       "Total                 0\n",
       "Date                  0\n",
       "Time                  0\n",
       "Payment               0\n",
       "Rating (out of 10)    0\n",
       "dtype: int64"
      ]
     },
     "execution_count": 5,
     "metadata": {},
     "output_type": "execute_result"
    }
   ],
   "source": [
    "#cleaning null values\n",
    "df.isna().sum()"
   ]
  },
  {
   "cell_type": "code",
   "execution_count": 6,
   "metadata": {},
   "outputs": [],
   "source": [
    "#rounding the col [Unit price]\n",
    "df[\"Unit price\"] = round(df[\"Unit price\"], 1)"
   ]
  },
  {
   "cell_type": "code",
   "execution_count": 7,
   "metadata": {},
   "outputs": [
    {
     "data": {
      "text/html": [
       "<div>\n",
       "<style scoped>\n",
       "    .dataframe tbody tr th:only-of-type {\n",
       "        vertical-align: middle;\n",
       "    }\n",
       "\n",
       "    .dataframe tbody tr th {\n",
       "        vertical-align: top;\n",
       "    }\n",
       "\n",
       "    .dataframe thead th {\n",
       "        text-align: right;\n",
       "    }\n",
       "</style>\n",
       "<table border=\"1\" class=\"dataframe\">\n",
       "  <thead>\n",
       "    <tr style=\"text-align: right;\">\n",
       "      <th></th>\n",
       "      <th>Invoice ID</th>\n",
       "      <th>Branch</th>\n",
       "      <th>City</th>\n",
       "      <th>Customer type</th>\n",
       "      <th>Gender</th>\n",
       "      <th>Product line</th>\n",
       "      <th>Unit price</th>\n",
       "      <th>Quantity</th>\n",
       "      <th>Tax 5% (per Unit)</th>\n",
       "      <th>Total</th>\n",
       "      <th>Date</th>\n",
       "      <th>Time</th>\n",
       "      <th>Payment</th>\n",
       "      <th>Rating (out of 10)</th>\n",
       "    </tr>\n",
       "  </thead>\n",
       "  <tbody>\n",
       "    <tr>\n",
       "      <th>0</th>\n",
       "      <td>750-67-8428</td>\n",
       "      <td>A</td>\n",
       "      <td>Yangon</td>\n",
       "      <td>Member</td>\n",
       "      <td>Female</td>\n",
       "      <td>Health and beauty</td>\n",
       "      <td>74.7</td>\n",
       "      <td>7</td>\n",
       "      <td>3.7</td>\n",
       "      <td>548.9715</td>\n",
       "      <td>01-05-2019</td>\n",
       "      <td>13:08</td>\n",
       "      <td>Ewallet</td>\n",
       "      <td>9.1</td>\n",
       "    </tr>\n",
       "    <tr>\n",
       "      <th>1</th>\n",
       "      <td>226-31-3081</td>\n",
       "      <td>C</td>\n",
       "      <td>Naypyitaw</td>\n",
       "      <td>Normal</td>\n",
       "      <td>Female</td>\n",
       "      <td>Electronic accessories</td>\n",
       "      <td>15.3</td>\n",
       "      <td>5</td>\n",
       "      <td>0.8</td>\n",
       "      <td>80.2200</td>\n",
       "      <td>03-08-2019</td>\n",
       "      <td>10:29</td>\n",
       "      <td>Cash</td>\n",
       "      <td>9.6</td>\n",
       "    </tr>\n",
       "    <tr>\n",
       "      <th>2</th>\n",
       "      <td>631-41-3108</td>\n",
       "      <td>A</td>\n",
       "      <td>Yangon</td>\n",
       "      <td>Normal</td>\n",
       "      <td>Male</td>\n",
       "      <td>Home and lifestyle</td>\n",
       "      <td>46.3</td>\n",
       "      <td>7</td>\n",
       "      <td>2.3</td>\n",
       "      <td>340.5255</td>\n",
       "      <td>03-03-2019</td>\n",
       "      <td>13:23</td>\n",
       "      <td>Credit card</td>\n",
       "      <td>7.4</td>\n",
       "    </tr>\n",
       "    <tr>\n",
       "      <th>3</th>\n",
       "      <td>123-19-1176</td>\n",
       "      <td>A</td>\n",
       "      <td>Yangon</td>\n",
       "      <td>Member</td>\n",
       "      <td>Male</td>\n",
       "      <td>Health and beauty</td>\n",
       "      <td>58.2</td>\n",
       "      <td>8</td>\n",
       "      <td>2.9</td>\n",
       "      <td>489.0480</td>\n",
       "      <td>1/27/2019</td>\n",
       "      <td>20:33</td>\n",
       "      <td>Ewallet</td>\n",
       "      <td>8.4</td>\n",
       "    </tr>\n",
       "    <tr>\n",
       "      <th>4</th>\n",
       "      <td>373-73-7910</td>\n",
       "      <td>A</td>\n",
       "      <td>Yangon</td>\n",
       "      <td>Normal</td>\n",
       "      <td>Male</td>\n",
       "      <td>Sports and travel</td>\n",
       "      <td>86.3</td>\n",
       "      <td>7</td>\n",
       "      <td>4.3</td>\n",
       "      <td>634.3785</td>\n",
       "      <td>02-08-2019</td>\n",
       "      <td>10:37</td>\n",
       "      <td>Ewallet</td>\n",
       "      <td>5.3</td>\n",
       "    </tr>\n",
       "    <tr>\n",
       "      <th>...</th>\n",
       "      <td>...</td>\n",
       "      <td>...</td>\n",
       "      <td>...</td>\n",
       "      <td>...</td>\n",
       "      <td>...</td>\n",
       "      <td>...</td>\n",
       "      <td>...</td>\n",
       "      <td>...</td>\n",
       "      <td>...</td>\n",
       "      <td>...</td>\n",
       "      <td>...</td>\n",
       "      <td>...</td>\n",
       "      <td>...</td>\n",
       "      <td>...</td>\n",
       "    </tr>\n",
       "    <tr>\n",
       "      <th>995</th>\n",
       "      <td>233-67-5758</td>\n",
       "      <td>C</td>\n",
       "      <td>Naypyitaw</td>\n",
       "      <td>Normal</td>\n",
       "      <td>Male</td>\n",
       "      <td>Health and beauty</td>\n",
       "      <td>40.4</td>\n",
       "      <td>1</td>\n",
       "      <td>2.0</td>\n",
       "      <td>42.3675</td>\n",
       "      <td>1/29/2019</td>\n",
       "      <td>13:46</td>\n",
       "      <td>Ewallet</td>\n",
       "      <td>6.2</td>\n",
       "    </tr>\n",
       "    <tr>\n",
       "      <th>996</th>\n",
       "      <td>303-96-2227</td>\n",
       "      <td>B</td>\n",
       "      <td>Mandalay</td>\n",
       "      <td>Normal</td>\n",
       "      <td>Female</td>\n",
       "      <td>Home and lifestyle</td>\n",
       "      <td>97.4</td>\n",
       "      <td>10</td>\n",
       "      <td>4.9</td>\n",
       "      <td>1022.4900</td>\n",
       "      <td>03-02-2019</td>\n",
       "      <td>17:16</td>\n",
       "      <td>Ewallet</td>\n",
       "      <td>4.4</td>\n",
       "    </tr>\n",
       "    <tr>\n",
       "      <th>997</th>\n",
       "      <td>727-02-1313</td>\n",
       "      <td>A</td>\n",
       "      <td>Yangon</td>\n",
       "      <td>Member</td>\n",
       "      <td>Male</td>\n",
       "      <td>Food and beverages</td>\n",
       "      <td>31.8</td>\n",
       "      <td>1</td>\n",
       "      <td>1.6</td>\n",
       "      <td>33.4320</td>\n",
       "      <td>02-09-2019</td>\n",
       "      <td>13:22</td>\n",
       "      <td>Cash</td>\n",
       "      <td>7.7</td>\n",
       "    </tr>\n",
       "    <tr>\n",
       "      <th>998</th>\n",
       "      <td>347-56-2442</td>\n",
       "      <td>A</td>\n",
       "      <td>Yangon</td>\n",
       "      <td>Normal</td>\n",
       "      <td>Male</td>\n",
       "      <td>Home and lifestyle</td>\n",
       "      <td>65.8</td>\n",
       "      <td>1</td>\n",
       "      <td>3.3</td>\n",
       "      <td>69.1110</td>\n",
       "      <td>2/22/2019</td>\n",
       "      <td>15:33</td>\n",
       "      <td>Cash</td>\n",
       "      <td>4.1</td>\n",
       "    </tr>\n",
       "    <tr>\n",
       "      <th>999</th>\n",
       "      <td>849-09-3807</td>\n",
       "      <td>A</td>\n",
       "      <td>Yangon</td>\n",
       "      <td>Member</td>\n",
       "      <td>Female</td>\n",
       "      <td>Fashion accessories</td>\n",
       "      <td>88.3</td>\n",
       "      <td>7</td>\n",
       "      <td>4.4</td>\n",
       "      <td>649.2990</td>\n",
       "      <td>2/18/2019</td>\n",
       "      <td>13:28</td>\n",
       "      <td>Cash</td>\n",
       "      <td>6.6</td>\n",
       "    </tr>\n",
       "  </tbody>\n",
       "</table>\n",
       "<p>1000 rows × 14 columns</p>\n",
       "</div>"
      ],
      "text/plain": [
       "      Invoice ID Branch       City Customer type  Gender  \\\n",
       "0    750-67-8428      A     Yangon        Member  Female   \n",
       "1    226-31-3081      C  Naypyitaw        Normal  Female   \n",
       "2    631-41-3108      A     Yangon        Normal    Male   \n",
       "3    123-19-1176      A     Yangon        Member    Male   \n",
       "4    373-73-7910      A     Yangon        Normal    Male   \n",
       "..           ...    ...        ...           ...     ...   \n",
       "995  233-67-5758      C  Naypyitaw        Normal    Male   \n",
       "996  303-96-2227      B   Mandalay        Normal  Female   \n",
       "997  727-02-1313      A     Yangon        Member    Male   \n",
       "998  347-56-2442      A     Yangon        Normal    Male   \n",
       "999  849-09-3807      A     Yangon        Member  Female   \n",
       "\n",
       "               Product line  Unit price  Quantity  Tax 5% (per Unit)  \\\n",
       "0         Health and beauty        74.7         7                3.7   \n",
       "1    Electronic accessories        15.3         5                0.8   \n",
       "2        Home and lifestyle        46.3         7                2.3   \n",
       "3         Health and beauty        58.2         8                2.9   \n",
       "4         Sports and travel        86.3         7                4.3   \n",
       "..                      ...         ...       ...                ...   \n",
       "995       Health and beauty        40.4         1                2.0   \n",
       "996      Home and lifestyle        97.4        10                4.9   \n",
       "997      Food and beverages        31.8         1                1.6   \n",
       "998      Home and lifestyle        65.8         1                3.3   \n",
       "999     Fashion accessories        88.3         7                4.4   \n",
       "\n",
       "         Total        Date   Time      Payment  Rating (out of 10)  \n",
       "0     548.9715  01-05-2019  13:08      Ewallet                 9.1  \n",
       "1      80.2200  03-08-2019  10:29         Cash                 9.6  \n",
       "2     340.5255  03-03-2019  13:23  Credit card                 7.4  \n",
       "3     489.0480   1/27/2019  20:33      Ewallet                 8.4  \n",
       "4     634.3785  02-08-2019  10:37      Ewallet                 5.3  \n",
       "..         ...         ...    ...          ...                 ...  \n",
       "995    42.3675   1/29/2019  13:46      Ewallet                 6.2  \n",
       "996  1022.4900  03-02-2019  17:16      Ewallet                 4.4  \n",
       "997    33.4320  02-09-2019  13:22         Cash                 7.7  \n",
       "998    69.1110   2/22/2019  15:33         Cash                 4.1  \n",
       "999   649.2990   2/18/2019  13:28         Cash                 6.6  \n",
       "\n",
       "[1000 rows x 14 columns]"
      ]
     },
     "execution_count": 7,
     "metadata": {},
     "output_type": "execute_result"
    }
   ],
   "source": [
    "#fixing the column Tax 5% (per Unit)\n",
    "df[\"Tax 5% (per Unit)\"] = (df[\"Unit price\"] * 5) / 100\n",
    "df[\"Tax 5% (per Unit)\"] = df[\"Tax 5% (per Unit)\"].round(1)\n",
    "df"
   ]
  },
  {
   "cell_type": "code",
   "execution_count": 8,
   "metadata": {},
   "outputs": [],
   "source": [
    "#calculating the columns total\n",
    "df[\"Total\"] = (df[\"Unit price\"] * df[\"Quantity\"]) - (df[\"Tax 5% (per Unit)\"] * df[\"Quantity\"])\n",
    "df[\"Total\"] = df[\"Total\"].round(1)"
   ]
  },
  {
   "cell_type": "code",
   "execution_count": 9,
   "metadata": {},
   "outputs": [
    {
     "data": {
      "text/html": [
       "<div>\n",
       "<style scoped>\n",
       "    .dataframe tbody tr th:only-of-type {\n",
       "        vertical-align: middle;\n",
       "    }\n",
       "\n",
       "    .dataframe tbody tr th {\n",
       "        vertical-align: top;\n",
       "    }\n",
       "\n",
       "    .dataframe thead th {\n",
       "        text-align: right;\n",
       "    }\n",
       "</style>\n",
       "<table border=\"1\" class=\"dataframe\">\n",
       "  <thead>\n",
       "    <tr style=\"text-align: right;\">\n",
       "      <th></th>\n",
       "      <th>Invoice ID</th>\n",
       "      <th>Branch</th>\n",
       "      <th>City</th>\n",
       "      <th>Customer type</th>\n",
       "      <th>Gender</th>\n",
       "      <th>Product line</th>\n",
       "      <th>Unit price</th>\n",
       "      <th>Quantity</th>\n",
       "      <th>Tax 5% (per Unit)</th>\n",
       "      <th>Total</th>\n",
       "      <th>Date</th>\n",
       "      <th>Time</th>\n",
       "      <th>Payment</th>\n",
       "      <th>Rating (out of 10)</th>\n",
       "    </tr>\n",
       "  </thead>\n",
       "  <tbody>\n",
       "    <tr>\n",
       "      <th>0</th>\n",
       "      <td>750-67-8428</td>\n",
       "      <td>A</td>\n",
       "      <td>Yangon</td>\n",
       "      <td>Member</td>\n",
       "      <td>Female</td>\n",
       "      <td>Health and beauty</td>\n",
       "      <td>74.7</td>\n",
       "      <td>7</td>\n",
       "      <td>3.7</td>\n",
       "      <td>497.0</td>\n",
       "      <td>01-05-2019</td>\n",
       "      <td>13:08</td>\n",
       "      <td>Ewallet</td>\n",
       "      <td>9.1</td>\n",
       "    </tr>\n",
       "    <tr>\n",
       "      <th>1</th>\n",
       "      <td>226-31-3081</td>\n",
       "      <td>C</td>\n",
       "      <td>Naypyitaw</td>\n",
       "      <td>Normal</td>\n",
       "      <td>Female</td>\n",
       "      <td>Electronic accessories</td>\n",
       "      <td>15.3</td>\n",
       "      <td>5</td>\n",
       "      <td>0.8</td>\n",
       "      <td>72.5</td>\n",
       "      <td>03-08-2019</td>\n",
       "      <td>10:29</td>\n",
       "      <td>Cash</td>\n",
       "      <td>9.6</td>\n",
       "    </tr>\n",
       "    <tr>\n",
       "      <th>2</th>\n",
       "      <td>631-41-3108</td>\n",
       "      <td>A</td>\n",
       "      <td>Yangon</td>\n",
       "      <td>Normal</td>\n",
       "      <td>Male</td>\n",
       "      <td>Home and lifestyle</td>\n",
       "      <td>46.3</td>\n",
       "      <td>7</td>\n",
       "      <td>2.3</td>\n",
       "      <td>308.0</td>\n",
       "      <td>03-03-2019</td>\n",
       "      <td>13:23</td>\n",
       "      <td>Credit card</td>\n",
       "      <td>7.4</td>\n",
       "    </tr>\n",
       "    <tr>\n",
       "      <th>3</th>\n",
       "      <td>123-19-1176</td>\n",
       "      <td>A</td>\n",
       "      <td>Yangon</td>\n",
       "      <td>Member</td>\n",
       "      <td>Male</td>\n",
       "      <td>Health and beauty</td>\n",
       "      <td>58.2</td>\n",
       "      <td>8</td>\n",
       "      <td>2.9</td>\n",
       "      <td>442.4</td>\n",
       "      <td>1/27/2019</td>\n",
       "      <td>20:33</td>\n",
       "      <td>Ewallet</td>\n",
       "      <td>8.4</td>\n",
       "    </tr>\n",
       "    <tr>\n",
       "      <th>4</th>\n",
       "      <td>373-73-7910</td>\n",
       "      <td>A</td>\n",
       "      <td>Yangon</td>\n",
       "      <td>Normal</td>\n",
       "      <td>Male</td>\n",
       "      <td>Sports and travel</td>\n",
       "      <td>86.3</td>\n",
       "      <td>7</td>\n",
       "      <td>4.3</td>\n",
       "      <td>574.0</td>\n",
       "      <td>02-08-2019</td>\n",
       "      <td>10:37</td>\n",
       "      <td>Ewallet</td>\n",
       "      <td>5.3</td>\n",
       "    </tr>\n",
       "    <tr>\n",
       "      <th>...</th>\n",
       "      <td>...</td>\n",
       "      <td>...</td>\n",
       "      <td>...</td>\n",
       "      <td>...</td>\n",
       "      <td>...</td>\n",
       "      <td>...</td>\n",
       "      <td>...</td>\n",
       "      <td>...</td>\n",
       "      <td>...</td>\n",
       "      <td>...</td>\n",
       "      <td>...</td>\n",
       "      <td>...</td>\n",
       "      <td>...</td>\n",
       "      <td>...</td>\n",
       "    </tr>\n",
       "    <tr>\n",
       "      <th>995</th>\n",
       "      <td>233-67-5758</td>\n",
       "      <td>C</td>\n",
       "      <td>Naypyitaw</td>\n",
       "      <td>Normal</td>\n",
       "      <td>Male</td>\n",
       "      <td>Health and beauty</td>\n",
       "      <td>40.4</td>\n",
       "      <td>1</td>\n",
       "      <td>2.0</td>\n",
       "      <td>38.4</td>\n",
       "      <td>1/29/2019</td>\n",
       "      <td>13:46</td>\n",
       "      <td>Ewallet</td>\n",
       "      <td>6.2</td>\n",
       "    </tr>\n",
       "    <tr>\n",
       "      <th>996</th>\n",
       "      <td>303-96-2227</td>\n",
       "      <td>B</td>\n",
       "      <td>Mandalay</td>\n",
       "      <td>Normal</td>\n",
       "      <td>Female</td>\n",
       "      <td>Home and lifestyle</td>\n",
       "      <td>97.4</td>\n",
       "      <td>10</td>\n",
       "      <td>4.9</td>\n",
       "      <td>925.0</td>\n",
       "      <td>03-02-2019</td>\n",
       "      <td>17:16</td>\n",
       "      <td>Ewallet</td>\n",
       "      <td>4.4</td>\n",
       "    </tr>\n",
       "    <tr>\n",
       "      <th>997</th>\n",
       "      <td>727-02-1313</td>\n",
       "      <td>A</td>\n",
       "      <td>Yangon</td>\n",
       "      <td>Member</td>\n",
       "      <td>Male</td>\n",
       "      <td>Food and beverages</td>\n",
       "      <td>31.8</td>\n",
       "      <td>1</td>\n",
       "      <td>1.6</td>\n",
       "      <td>30.2</td>\n",
       "      <td>02-09-2019</td>\n",
       "      <td>13:22</td>\n",
       "      <td>Cash</td>\n",
       "      <td>7.7</td>\n",
       "    </tr>\n",
       "    <tr>\n",
       "      <th>998</th>\n",
       "      <td>347-56-2442</td>\n",
       "      <td>A</td>\n",
       "      <td>Yangon</td>\n",
       "      <td>Normal</td>\n",
       "      <td>Male</td>\n",
       "      <td>Home and lifestyle</td>\n",
       "      <td>65.8</td>\n",
       "      <td>1</td>\n",
       "      <td>3.3</td>\n",
       "      <td>62.5</td>\n",
       "      <td>2/22/2019</td>\n",
       "      <td>15:33</td>\n",
       "      <td>Cash</td>\n",
       "      <td>4.1</td>\n",
       "    </tr>\n",
       "    <tr>\n",
       "      <th>999</th>\n",
       "      <td>849-09-3807</td>\n",
       "      <td>A</td>\n",
       "      <td>Yangon</td>\n",
       "      <td>Member</td>\n",
       "      <td>Female</td>\n",
       "      <td>Fashion accessories</td>\n",
       "      <td>88.3</td>\n",
       "      <td>7</td>\n",
       "      <td>4.4</td>\n",
       "      <td>587.3</td>\n",
       "      <td>2/18/2019</td>\n",
       "      <td>13:28</td>\n",
       "      <td>Cash</td>\n",
       "      <td>6.6</td>\n",
       "    </tr>\n",
       "  </tbody>\n",
       "</table>\n",
       "<p>1000 rows × 14 columns</p>\n",
       "</div>"
      ],
      "text/plain": [
       "      Invoice ID Branch       City Customer type  Gender  \\\n",
       "0    750-67-8428      A     Yangon        Member  Female   \n",
       "1    226-31-3081      C  Naypyitaw        Normal  Female   \n",
       "2    631-41-3108      A     Yangon        Normal    Male   \n",
       "3    123-19-1176      A     Yangon        Member    Male   \n",
       "4    373-73-7910      A     Yangon        Normal    Male   \n",
       "..           ...    ...        ...           ...     ...   \n",
       "995  233-67-5758      C  Naypyitaw        Normal    Male   \n",
       "996  303-96-2227      B   Mandalay        Normal  Female   \n",
       "997  727-02-1313      A     Yangon        Member    Male   \n",
       "998  347-56-2442      A     Yangon        Normal    Male   \n",
       "999  849-09-3807      A     Yangon        Member  Female   \n",
       "\n",
       "               Product line  Unit price  Quantity  Tax 5% (per Unit)  Total  \\\n",
       "0         Health and beauty        74.7         7                3.7  497.0   \n",
       "1    Electronic accessories        15.3         5                0.8   72.5   \n",
       "2        Home and lifestyle        46.3         7                2.3  308.0   \n",
       "3         Health and beauty        58.2         8                2.9  442.4   \n",
       "4         Sports and travel        86.3         7                4.3  574.0   \n",
       "..                      ...         ...       ...                ...    ...   \n",
       "995       Health and beauty        40.4         1                2.0   38.4   \n",
       "996      Home and lifestyle        97.4        10                4.9  925.0   \n",
       "997      Food and beverages        31.8         1                1.6   30.2   \n",
       "998      Home and lifestyle        65.8         1                3.3   62.5   \n",
       "999     Fashion accessories        88.3         7                4.4  587.3   \n",
       "\n",
       "           Date   Time      Payment  Rating (out of 10)  \n",
       "0    01-05-2019  13:08      Ewallet                 9.1  \n",
       "1    03-08-2019  10:29         Cash                 9.6  \n",
       "2    03-03-2019  13:23  Credit card                 7.4  \n",
       "3     1/27/2019  20:33      Ewallet                 8.4  \n",
       "4    02-08-2019  10:37      Ewallet                 5.3  \n",
       "..          ...    ...          ...                 ...  \n",
       "995   1/29/2019  13:46      Ewallet                 6.2  \n",
       "996  03-02-2019  17:16      Ewallet                 4.4  \n",
       "997  02-09-2019  13:22         Cash                 7.7  \n",
       "998   2/22/2019  15:33         Cash                 4.1  \n",
       "999   2/18/2019  13:28         Cash                 6.6  \n",
       "\n",
       "[1000 rows x 14 columns]"
      ]
     },
     "execution_count": 9,
     "metadata": {},
     "output_type": "execute_result"
    }
   ],
   "source": [
    "df"
   ]
  },
  {
   "cell_type": "code",
   "execution_count": 10,
   "metadata": {},
   "outputs": [
    {
     "name": "stdout",
     "output_type": "stream",
     "text": [
      "<class 'pandas.core.frame.DataFrame'>\n",
      "RangeIndex: 1000 entries, 0 to 999\n",
      "Data columns (total 14 columns):\n",
      " #   Column              Non-Null Count  Dtype  \n",
      "---  ------              --------------  -----  \n",
      " 0   Invoice ID          1000 non-null   object \n",
      " 1   Branch              1000 non-null   object \n",
      " 2   City                1000 non-null   object \n",
      " 3   Customer type       1000 non-null   object \n",
      " 4   Gender              1000 non-null   object \n",
      " 5   Product line        1000 non-null   object \n",
      " 6   Unit price          1000 non-null   float64\n",
      " 7   Quantity            1000 non-null   int64  \n",
      " 8   Tax 5% (per Unit)   1000 non-null   float64\n",
      " 9   Total               1000 non-null   float64\n",
      " 10  Date                1000 non-null   object \n",
      " 11  Time                1000 non-null   object \n",
      " 12  Payment             1000 non-null   object \n",
      " 13  Rating (out of 10)  1000 non-null   float64\n",
      "dtypes: float64(4), int64(1), object(9)\n",
      "memory usage: 109.5+ KB\n"
     ]
    }
   ],
   "source": [
    "df.info()"
   ]
  },
  {
   "cell_type": "code",
   "execution_count": 11,
   "metadata": {},
   "outputs": [],
   "source": [
    "#changing the dtype of col[\"Date\"]\n",
    "temp_sr = pd.to_datetime(df[\"Date\"], format = \"%d-%m-%Y\", errors = \"coerce\")\n",
    "temp_sr.fillna(pd.to_datetime(df[\"Date\"], format = \"%m/%d/%Y\", errors = \"coerce\"), inplace = True)\n",
    "df[\"Date\"] = temp_sr"
   ]
  },
  {
   "cell_type": "code",
   "execution_count": 12,
   "metadata": {},
   "outputs": [
    {
     "name": "stdout",
     "output_type": "stream",
     "text": [
      "<class 'pandas.core.frame.DataFrame'>\n",
      "RangeIndex: 1000 entries, 0 to 999\n",
      "Data columns (total 14 columns):\n",
      " #   Column              Non-Null Count  Dtype         \n",
      "---  ------              --------------  -----         \n",
      " 0   Invoice ID          1000 non-null   object        \n",
      " 1   Branch              1000 non-null   object        \n",
      " 2   City                1000 non-null   object        \n",
      " 3   Customer type       1000 non-null   object        \n",
      " 4   Gender              1000 non-null   object        \n",
      " 5   Product line        1000 non-null   object        \n",
      " 6   Unit price          1000 non-null   float64       \n",
      " 7   Quantity            1000 non-null   int64         \n",
      " 8   Tax 5% (per Unit)   1000 non-null   float64       \n",
      " 9   Total               1000 non-null   float64       \n",
      " 10  Date                1000 non-null   datetime64[ns]\n",
      " 11  Time                1000 non-null   object        \n",
      " 12  Payment             1000 non-null   object        \n",
      " 13  Rating (out of 10)  1000 non-null   float64       \n",
      "dtypes: datetime64[ns](1), float64(4), int64(1), object(8)\n",
      "memory usage: 109.5+ KB\n"
     ]
    }
   ],
   "source": [
    "df.info()"
   ]
  },
  {
   "cell_type": "markdown",
   "metadata": {},
   "source": [
    "##### Task_2: Plot col[Branch] on a bar graph."
   ]
  },
  {
   "cell_type": "code",
   "execution_count": 13,
   "metadata": {},
   "outputs": [
    {
     "name": "stdout",
     "output_type": "stream",
     "text": [
      "{'A': 340, 'B': 332, 'C': 328}\n"
     ]
    }
   ],
   "source": [
    "#collecting the data\n",
    "branch_dict = df[\"Branch\"].value_counts().to_dict()\n",
    "print(branch_dict)"
   ]
  },
  {
   "cell_type": "code",
   "execution_count": 14,
   "metadata": {},
   "outputs": [
    {
     "data": {
      "image/png": "[encoded data removed]",
      "text/plain": [
       "<Figure size 640x480 with 1 Axes>"
      ]
     },
     "metadata": {},
     "output_type": "display_data"
    }
   ],
   "source": [
    "#plotting the graph\n",
    "# plt.figure(dpi = 300)\n",
    "plt.bar(branch_dict.keys(), branch_dict.values(), color = generate_colors(len(branch_dict)))\n",
    "\n",
    "plt.title(\"No. of Orders from different Branches\", fontdict = {\"fontsize\" : 16, \"fontname\" : \"Comic Sans MS\"})\n",
    "plt.xlabel(\"Branch\", fontdict = {\"fontsize\" : 15, \"fontname\" : \"Comic Sans MS\"})\n",
    "plt.ylabel(\"No. of Orders\", fontdict = {\"fontsize\" : 15, \"fontname\" : \"Comic Sans MS\"})\n",
    "\n",
    "plt.show()"
   ]
  },
  {
   "cell_type": "markdown",
   "metadata": {},
   "source": [
    "##### Task_3: Plot col[City] on a bar graph."
   ]
  },
  {
   "cell_type": "code",
   "execution_count": 15,
   "metadata": {},
   "outputs": [
    {
     "name": "stdout",
     "output_type": "stream",
     "text": [
      "{'Yangon': 340, 'Mandalay': 332, 'Naypyitaw': 328}\n"
     ]
    }
   ],
   "source": [
    "#collecting the data\n",
    "city_dict = df[\"City\"].value_counts().to_dict()\n",
    "print(city_dict)"
   ]
  },
  {
   "cell_type": "code",
   "execution_count": 16,
   "metadata": {},
   "outputs": [
    {
     "data": {
      "image/png": "[encoded data removed]",
      "text/plain": [
       "<Figure size 640x480 with 1 Axes>"
      ]
     },
     "metadata": {},
     "output_type": "display_data"
    }
   ],
   "source": [
    "#plotting the graph\n",
    "# plt.figure(dpi = 300)\n",
    "plt.bar(city_dict.keys(), city_dict.values(), color = generate_colors(len(city_dict)))\n",
    "\n",
    "plt.title(\"No. of Orders from different Cities\", fontdict = {\"fontsize\" : 16, \"fontname\" : \"Comic Sans MS\"})\n",
    "plt.xlabel(\"City\", fontdict = {\"fontsize\" : 15, \"fontname\" : \"Comic Sans MS\"})\n",
    "plt.ylabel(\"No. of Orders\", fontdict = {\"fontsize\" : 15, \"fontname\" : \"Comic Sans MS\"})\n",
    "\n",
    "plt.show()        "
   ]
  },
  {
   "cell_type": "markdown",
   "metadata": {},
   "source": [
    "##### Task_4: Represent the col[Customer Type] on a pie chart."
   ]
  },
  {
   "cell_type": "code",
   "execution_count": 17,
   "metadata": {},
   "outputs": [
    {
     "name": "stdout",
     "output_type": "stream",
     "text": [
      "{'Member': 501, 'Normal': 499}\n"
     ]
    }
   ],
   "source": [
    "#collecting the data\n",
    "customer_type_dict = df[\"Customer type\"].value_counts().to_dict()\n",
    "print(customer_type_dict)"
   ]
  },
  {
   "cell_type": "code",
   "execution_count": 20,
   "metadata": {},
   "outputs": [
    {
     "data": {
      "image/png": "[encoded data removed]",
      "text/plain": [
       "<Figure size 640x480 with 1 Axes>"
      ]
     },
     "metadata": {},
     "output_type": "display_data"
    }
   ],
   "source": [
    "#plotting the pie chart\n",
    "# plt.figure(dpi = 300)\n",
    "plt.pie(customer_type_dict.values(), labels = customer_type_dict.keys(), autopct = \"%1.1f%%\")\n",
    "\n",
    "plt.title(\"Customer Type Pie Representation\", fontdict = {\"fontsize\" : 16, \"fontname\" : \"Comic Sans MS\"})\n",
    "\n",
    "plt.show()"
   ]
  },
  {
   "cell_type": "markdown",
   "metadata": {},
   "source": [
    "##### Task_5: Represent the column[Gender] on a pie chart."
   ]
  },
  {
   "cell_type": "code",
   "execution_count": 21,
   "metadata": {},
   "outputs": [
    {
     "name": "stdout",
     "output_type": "stream",
     "text": [
      "{'Female': 501, 'Male': 499}\n"
     ]
    }
   ],
   "source": [
    "#collecting the information\n",
    "gender_dict = df[\"Gender\"].value_counts().to_dict()\n",
    "print(gender_dict)"
   ]
  },
  {
   "cell_type": "code",
   "execution_count": 29,
   "metadata": {},
   "outputs": [
    {
     "data": {
      "image/png": "[encoded data removed]",
      "text/plain": [
       "<Figure size 640x480 with 1 Axes>"
      ]
     },
     "metadata": {},
     "output_type": "display_data"
    }
   ],
   "source": [
    "#plotting the pie chart\n",
    "# plt.figure(dpi = 300)\n",
    "plt.pie(gender_dict.values(), labels = gender_dict.keys(), autopct = \"%1.1f%%\", colors = generate_colors(2))\n",
    "\n",
    "plt.title(\"Gender Type Pie Representation\", fontdict = {\"fontsize\" : 16, \"fontname\" : \"Comic Sans MS\"})\n",
    "\n",
    "plt.show()"
   ]
  },
  {
   "cell_type": "markdown",
   "metadata": {},
   "source": [
    "##### Task_6: Draw a bar graph to represent the No. of orders from different product lines."
   ]
  },
  {
   "cell_type": "code",
   "execution_count": 30,
   "metadata": {},
   "outputs": [
    {
     "name": "stdout",
     "output_type": "stream",
     "text": [
      "{'Fashion accessories': 178, 'Food and beverages': 174, 'Electronic accessories': 170, 'Sports and travel': 166, 'Home and lifestyle': 160, 'Health and beauty': 152}\n"
     ]
    }
   ],
   "source": [
    "#collecting the data\n",
    "product_line_dict = df[\"Product line\"].value_counts().to_dict()\n",
    "print(product_line_dict)"
   ]
  },
  {
   "cell_type": "code",
   "execution_count": 36,
   "metadata": {},
   "outputs": [
    {
     "data": {
      "image/png": "[encoded data removed]",
      "text/plain": [
       "<Figure size 1500x700 with 1 Axes>"
      ]
     },
     "metadata": {},
     "output_type": "display_data"
    }
   ],
   "source": [
    "#plotting the bar graph\n",
    "plt.figure(figsize = (15, 7)) # dpi = 300\n",
    "plt.bar(product_line_dict.keys(), product_line_dict.values(), color = generate_colors(len(product_line_dict)))\n",
    "\n",
    "plt.title(\"Orders from different product lines\", fontdict = {\"fontsize\" : 16, \"fontname\" : \"Comic Sans MS\"})\n",
    "plt.xlabel(\"Product line\", fontdict = {\"fontsize\" : 15, \"fontname\" : \"Comic Sans MS\"})\n",
    "plt.ylabel(\"No. of Orders\", fontdict = {\"fontsize\" : 15, \"fontname\" : \"Comic Sans MS\"})\n",
    "\n",
    "plt.show()"
   ]
  },
  {
   "cell_type": "markdown",
   "metadata": {},
   "source": [
    "##### Task_7: Draw a histogram to represent total price for each order."
   ]
  },
  {
   "cell_type": "code",
   "execution_count": 44,
   "metadata": {},
   "outputs": [
    {
     "data": {
      "image/png": "[encoded data removed]",
      "text/plain": [
       "<Figure size 640x480 with 1 Axes>"
      ]
     },
     "metadata": {},
     "output_type": "display_data"
    }
   ],
   "source": [
    "#plotting the histogram\n",
    "# plt.figure(dpi = 300)\n",
    "plt.hist(df[\"Total\"], bins = 100)\n",
    "\n",
    "plt.title(\"Total Price of all orders\", fontdict = {\"fontsize\" : 16, \"fontname\" : \"Comic Sans MS\"})\n",
    "plt.xlabel(\"Total Price Class Intervals\", fontdict = {\"fontsize\" : 15, \"fontname\" : \"Comic Sans MS\"})\n",
    "plt.ylabel(\"No. of Orders\", fontdict = {\"fontsize\" : 15, \"fontname\" : \"Comic Sans MS\"})\n",
    "\n",
    "plt.show()"
   ]
  },
  {
   "cell_type": "markdown",
   "metadata": {},
   "source": [
    "# Finish"
   ]
  }
 ],
 "metadata": {
  "kernelspec": {
   "display_name": "Python 3",
   "language": "python",
   "name": "python3"
  },
  "language_info": {
   "codemirror_mode": {
    "name": "ipython",
    "version": 3
   },
   "file_extension": ".py",
   "mimetype": "text/x-python",
   "name": "python",
   "nbconvert_exporter": "python",
   "pygments_lexer": "ipython3",
   "version": "3.13.1"
  }
 },
 "nbformat": 4,
 "nbformat_minor": 2
}
